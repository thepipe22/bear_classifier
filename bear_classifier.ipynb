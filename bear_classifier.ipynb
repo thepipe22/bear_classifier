{
  "nbformat": 4,
  "nbformat_minor": 0,
  "metadata": {
    "colab": {
      "provenance": []
    },
    "kernelspec": {
      "name": "python3",
      "display_name": "Python 3"
    },
    "language_info": {
      "name": "python"
    },
    "widgets": {
      "application/vnd.jupyter.widget-state+json": {
        "39db40ab526f4f2fb551a1031b0f43be": {
          "model_module": "@jupyter-widgets/controls",
          "model_name": "FileUploadModel",
          "model_module_version": "1.5.0",
          "state": {
            "_counter": 0,
            "_dom_classes": [],
            "_model_module": "@jupyter-widgets/controls",
            "_model_module_version": "1.5.0",
            "_model_name": "FileUploadModel",
            "_view_count": null,
            "_view_module": "@jupyter-widgets/controls",
            "_view_module_version": "1.5.0",
            "_view_name": "FileUploadView",
            "accept": "",
            "button_style": "",
            "data": [],
            "description": "Upload",
            "description_tooltip": null,
            "disabled": false,
            "error": "",
            "icon": "upload",
            "layout": "IPY_MODEL_cea3001e5a1d4c01a6383be15817648b",
            "metadata": [],
            "multiple": false,
            "style": "IPY_MODEL_77f689e1dd5942089e2e57047dbea1eb"
          }
        },
        "cea3001e5a1d4c01a6383be15817648b": {
          "model_module": "@jupyter-widgets/base",
          "model_name": "LayoutModel",
          "model_module_version": "1.2.0",
          "state": {
            "_model_module": "@jupyter-widgets/base",
            "_model_module_version": "1.2.0",
            "_model_name": "LayoutModel",
            "_view_count": null,
            "_view_module": "@jupyter-widgets/base",
            "_view_module_version": "1.2.0",
            "_view_name": "LayoutView",
            "align_content": null,
            "align_items": null,
            "align_self": null,
            "border": null,
            "bottom": null,
            "display": null,
            "flex": null,
            "flex_flow": null,
            "grid_area": null,
            "grid_auto_columns": null,
            "grid_auto_flow": null,
            "grid_auto_rows": null,
            "grid_column": null,
            "grid_gap": null,
            "grid_row": null,
            "grid_template_areas": null,
            "grid_template_columns": null,
            "grid_template_rows": null,
            "height": null,
            "justify_content": null,
            "justify_items": null,
            "left": null,
            "margin": null,
            "max_height": null,
            "max_width": null,
            "min_height": null,
            "min_width": null,
            "object_fit": null,
            "object_position": null,
            "order": null,
            "overflow": null,
            "overflow_x": null,
            "overflow_y": null,
            "padding": null,
            "right": null,
            "top": null,
            "visibility": null,
            "width": null
          }
        },
        "77f689e1dd5942089e2e57047dbea1eb": {
          "model_module": "@jupyter-widgets/controls",
          "model_name": "ButtonStyleModel",
          "model_module_version": "1.5.0",
          "state": {
            "_model_module": "@jupyter-widgets/controls",
            "_model_module_version": "1.5.0",
            "_model_name": "ButtonStyleModel",
            "_view_count": null,
            "_view_module": "@jupyter-widgets/base",
            "_view_module_version": "1.2.0",
            "_view_name": "StyleView",
            "button_color": null,
            "font_weight": ""
          }
        },
        "8ac4c0be3e704a61b5d5553def6c5854": {
          "model_module": "@jupyter-widgets/output",
          "model_name": "OutputModel",
          "model_module_version": "1.0.0",
          "state": {
            "_dom_classes": [],
            "_model_module": "@jupyter-widgets/output",
            "_model_module_version": "1.0.0",
            "_model_name": "OutputModel",
            "_view_count": null,
            "_view_module": "@jupyter-widgets/output",
            "_view_module_version": "1.0.0",
            "_view_name": "OutputView",
            "layout": "IPY_MODEL_887ff7cf014f47c8b064cbee878043f2",
            "msg_id": "",
            "outputs": [
              {
                "output_type": "display_data",
                "data": {
                  "text/plain": "<PIL.Image.Image image mode=RGB size=128x72>",
                  "image/png": "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\n",
                  "image/jpeg": "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\n"
                },
                "metadata": {}
              }
            ]
          }
        },
        "887ff7cf014f47c8b064cbee878043f2": {
          "model_module": "@jupyter-widgets/base",
          "model_name": "LayoutModel",
          "model_module_version": "1.2.0",
          "state": {
            "_model_module": "@jupyter-widgets/base",
            "_model_module_version": "1.2.0",
            "_model_name": "LayoutModel",
            "_view_count": null,
            "_view_module": "@jupyter-widgets/base",
            "_view_module_version": "1.2.0",
            "_view_name": "LayoutView",
            "align_content": null,
            "align_items": null,
            "align_self": null,
            "border": null,
            "bottom": null,
            "display": null,
            "flex": null,
            "flex_flow": null,
            "grid_area": null,
            "grid_auto_columns": null,
            "grid_auto_flow": null,
            "grid_auto_rows": null,
            "grid_column": null,
            "grid_gap": null,
            "grid_row": null,
            "grid_template_areas": null,
            "grid_template_columns": null,
            "grid_template_rows": null,
            "height": null,
            "justify_content": null,
            "justify_items": null,
            "left": null,
            "margin": null,
            "max_height": null,
            "max_width": null,
            "min_height": null,
            "min_width": null,
            "object_fit": null,
            "object_position": null,
            "order": null,
            "overflow": null,
            "overflow_x": null,
            "overflow_y": null,
            "padding": null,
            "right": null,
            "top": null,
            "visibility": null,
            "width": null
          }
        },
        "1ab9836d99df42f8b8b004c6520166da": {
          "model_module": "@jupyter-widgets/controls",
          "model_name": "LabelModel",
          "model_module_version": "1.5.0",
          "state": {
            "_dom_classes": [],
            "_model_module": "@jupyter-widgets/controls",
            "_model_module_version": "1.5.0",
            "_model_name": "LabelModel",
            "_view_count": null,
            "_view_module": "@jupyter-widgets/controls",
            "_view_module_version": "1.5.0",
            "_view_name": "LabelView",
            "description": "",
            "description_tooltip": null,
            "layout": "IPY_MODEL_332c74811056444fabe89eb33632dcd8",
            "placeholder": "​",
            "style": "IPY_MODEL_85618044b2844577a8fa828d7db42f23",
            "value": "Prediction: grizzly; Probability: 0.9968"
          }
        },
        "332c74811056444fabe89eb33632dcd8": {
          "model_module": "@jupyter-widgets/base",
          "model_name": "LayoutModel",
          "model_module_version": "1.2.0",
          "state": {
            "_model_module": "@jupyter-widgets/base",
            "_model_module_version": "1.2.0",
            "_model_name": "LayoutModel",
            "_view_count": null,
            "_view_module": "@jupyter-widgets/base",
            "_view_module_version": "1.2.0",
            "_view_name": "LayoutView",
            "align_content": null,
            "align_items": null,
            "align_self": null,
            "border": null,
            "bottom": null,
            "display": null,
            "flex": null,
            "flex_flow": null,
            "grid_area": null,
            "grid_auto_columns": null,
            "grid_auto_flow": null,
            "grid_auto_rows": null,
            "grid_column": null,
            "grid_gap": null,
            "grid_row": null,
            "grid_template_areas": null,
            "grid_template_columns": null,
            "grid_template_rows": null,
            "height": null,
            "justify_content": null,
            "justify_items": null,
            "left": null,
            "margin": null,
            "max_height": null,
            "max_width": null,
            "min_height": null,
            "min_width": null,
            "object_fit": null,
            "object_position": null,
            "order": null,
            "overflow": null,
            "overflow_x": null,
            "overflow_y": null,
            "padding": null,
            "right": null,
            "top": null,
            "visibility": null,
            "width": null
          }
        },
        "85618044b2844577a8fa828d7db42f23": {
          "model_module": "@jupyter-widgets/controls",
          "model_name": "DescriptionStyleModel",
          "model_module_version": "1.5.0",
          "state": {
            "_model_module": "@jupyter-widgets/controls",
            "_model_module_version": "1.5.0",
            "_model_name": "DescriptionStyleModel",
            "_view_count": null,
            "_view_module": "@jupyter-widgets/base",
            "_view_module_version": "1.2.0",
            "_view_name": "StyleView",
            "description_width": ""
          }
        },
        "9f7b53ceafa24d0f984d11d0256f6a88": {
          "model_module": "@jupyter-widgets/controls",
          "model_name": "ButtonModel",
          "model_module_version": "1.5.0",
          "state": {
            "_dom_classes": [],
            "_model_module": "@jupyter-widgets/controls",
            "_model_module_version": "1.5.0",
            "_model_name": "ButtonModel",
            "_view_count": null,
            "_view_module": "@jupyter-widgets/controls",
            "_view_module_version": "1.5.0",
            "_view_name": "ButtonView",
            "button_style": "",
            "description": "Classify",
            "disabled": false,
            "icon": "",
            "layout": "IPY_MODEL_177fe1c5043a4edcba881abc0dbc5ff3",
            "style": "IPY_MODEL_9035465b8f0744e7abb27f9418e19bfe",
            "tooltip": ""
          }
        },
        "177fe1c5043a4edcba881abc0dbc5ff3": {
          "model_module": "@jupyter-widgets/base",
          "model_name": "LayoutModel",
          "model_module_version": "1.2.0",
          "state": {
            "_model_module": "@jupyter-widgets/base",
            "_model_module_version": "1.2.0",
            "_model_name": "LayoutModel",
            "_view_count": null,
            "_view_module": "@jupyter-widgets/base",
            "_view_module_version": "1.2.0",
            "_view_name": "LayoutView",
            "align_content": null,
            "align_items": null,
            "align_self": null,
            "border": null,
            "bottom": null,
            "display": null,
            "flex": null,
            "flex_flow": null,
            "grid_area": null,
            "grid_auto_columns": null,
            "grid_auto_flow": null,
            "grid_auto_rows": null,
            "grid_column": null,
            "grid_gap": null,
            "grid_row": null,
            "grid_template_areas": null,
            "grid_template_columns": null,
            "grid_template_rows": null,
            "height": null,
            "justify_content": null,
            "justify_items": null,
            "left": null,
            "margin": null,
            "max_height": null,
            "max_width": null,
            "min_height": null,
            "min_width": null,
            "object_fit": null,
            "object_position": null,
            "order": null,
            "overflow": null,
            "overflow_x": null,
            "overflow_y": null,
            "padding": null,
            "right": null,
            "top": null,
            "visibility": null,
            "width": null
          }
        },
        "9035465b8f0744e7abb27f9418e19bfe": {
          "model_module": "@jupyter-widgets/controls",
          "model_name": "ButtonStyleModel",
          "model_module_version": "1.5.0",
          "state": {
            "_model_module": "@jupyter-widgets/controls",
            "_model_module_version": "1.5.0",
            "_model_name": "ButtonStyleModel",
            "_view_count": null,
            "_view_module": "@jupyter-widgets/base",
            "_view_module_version": "1.2.0",
            "_view_name": "StyleView",
            "button_color": null,
            "font_weight": ""
          }
        },
        "bd768d3a25ab41e582ec55f4472f3502": {
          "model_module": "@jupyter-widgets/controls",
          "model_name": "VBoxModel",
          "model_module_version": "1.5.0",
          "state": {
            "_dom_classes": [],
            "_model_module": "@jupyter-widgets/controls",
            "_model_module_version": "1.5.0",
            "_model_name": "VBoxModel",
            "_view_count": null,
            "_view_module": "@jupyter-widgets/controls",
            "_view_module_version": "1.5.0",
            "_view_name": "VBoxView",
            "box_style": "",
            "children": [
              "IPY_MODEL_36b6ec50f2164d028c2b5e8b623ad5b7",
              "IPY_MODEL_5ebb92fa63544cc49a316414a6ecbcf3",
              "IPY_MODEL_9f7b53ceafa24d0f984d11d0256f6a88",
              "IPY_MODEL_8ac4c0be3e704a61b5d5553def6c5854",
              "IPY_MODEL_1ab9836d99df42f8b8b004c6520166da"
            ],
            "layout": "IPY_MODEL_3e4aa02995184bd698c95f802bd979cb"
          }
        },
        "36b6ec50f2164d028c2b5e8b623ad5b7": {
          "model_module": "@jupyter-widgets/controls",
          "model_name": "LabelModel",
          "model_module_version": "1.5.0",
          "state": {
            "_dom_classes": [],
            "_model_module": "@jupyter-widgets/controls",
            "_model_module_version": "1.5.0",
            "_model_name": "LabelModel",
            "_view_count": null,
            "_view_module": "@jupyter-widgets/controls",
            "_view_module_version": "1.5.0",
            "_view_name": "LabelView",
            "description": "",
            "description_tooltip": null,
            "layout": "IPY_MODEL_cdc7687862ef48bd991f159b1d204489",
            "placeholder": "​",
            "style": "IPY_MODEL_05f7cc72d3f14cdaa9286c50311c9896",
            "value": "Select your bear!"
          }
        },
        "5ebb92fa63544cc49a316414a6ecbcf3": {
          "model_module": "@jupyter-widgets/controls",
          "model_name": "FileUploadModel",
          "model_module_version": "1.5.0",
          "state": {
            "_counter": 0,
            "_dom_classes": [],
            "_model_module": "@jupyter-widgets/controls",
            "_model_module_version": "1.5.0",
            "_model_name": "FileUploadModel",
            "_view_count": null,
            "_view_module": "@jupyter-widgets/controls",
            "_view_module_version": "1.5.0",
            "_view_name": "FileUploadView",
            "accept": "",
            "button_style": "",
            "data": [],
            "description": "Upload",
            "description_tooltip": null,
            "disabled": false,
            "error": "",
            "icon": "upload",
            "layout": "IPY_MODEL_0ebe0a5ae4a14a2dba0cfd225565c0dd",
            "metadata": [],
            "multiple": false,
            "style": "IPY_MODEL_f9b39ef985f345e5b91d9575e8e3f7f3"
          }
        },
        "3e4aa02995184bd698c95f802bd979cb": {
          "model_module": "@jupyter-widgets/base",
          "model_name": "LayoutModel",
          "model_module_version": "1.2.0",
          "state": {
            "_model_module": "@jupyter-widgets/base",
            "_model_module_version": "1.2.0",
            "_model_name": "LayoutModel",
            "_view_count": null,
            "_view_module": "@jupyter-widgets/base",
            "_view_module_version": "1.2.0",
            "_view_name": "LayoutView",
            "align_content": null,
            "align_items": null,
            "align_self": null,
            "border": null,
            "bottom": null,
            "display": null,
            "flex": null,
            "flex_flow": null,
            "grid_area": null,
            "grid_auto_columns": null,
            "grid_auto_flow": null,
            "grid_auto_rows": null,
            "grid_column": null,
            "grid_gap": null,
            "grid_row": null,
            "grid_template_areas": null,
            "grid_template_columns": null,
            "grid_template_rows": null,
            "height": null,
            "justify_content": null,
            "justify_items": null,
            "left": null,
            "margin": null,
            "max_height": null,
            "max_width": null,
            "min_height": null,
            "min_width": null,
            "object_fit": null,
            "object_position": null,
            "order": null,
            "overflow": null,
            "overflow_x": null,
            "overflow_y": null,
            "padding": null,
            "right": null,
            "top": null,
            "visibility": null,
            "width": null
          }
        },
        "cdc7687862ef48bd991f159b1d204489": {
          "model_module": "@jupyter-widgets/base",
          "model_name": "LayoutModel",
          "model_module_version": "1.2.0",
          "state": {
            "_model_module": "@jupyter-widgets/base",
            "_model_module_version": "1.2.0",
            "_model_name": "LayoutModel",
            "_view_count": null,
            "_view_module": "@jupyter-widgets/base",
            "_view_module_version": "1.2.0",
            "_view_name": "LayoutView",
            "align_content": null,
            "align_items": null,
            "align_self": null,
            "border": null,
            "bottom": null,
            "display": null,
            "flex": null,
            "flex_flow": null,
            "grid_area": null,
            "grid_auto_columns": null,
            "grid_auto_flow": null,
            "grid_auto_rows": null,
            "grid_column": null,
            "grid_gap": null,
            "grid_row": null,
            "grid_template_areas": null,
            "grid_template_columns": null,
            "grid_template_rows": null,
            "height": null,
            "justify_content": null,
            "justify_items": null,
            "left": null,
            "margin": null,
            "max_height": null,
            "max_width": null,
            "min_height": null,
            "min_width": null,
            "object_fit": null,
            "object_position": null,
            "order": null,
            "overflow": null,
            "overflow_x": null,
            "overflow_y": null,
            "padding": null,
            "right": null,
            "top": null,
            "visibility": null,
            "width": null
          }
        },
        "05f7cc72d3f14cdaa9286c50311c9896": {
          "model_module": "@jupyter-widgets/controls",
          "model_name": "DescriptionStyleModel",
          "model_module_version": "1.5.0",
          "state": {
            "_model_module": "@jupyter-widgets/controls",
            "_model_module_version": "1.5.0",
            "_model_name": "DescriptionStyleModel",
            "_view_count": null,
            "_view_module": "@jupyter-widgets/base",
            "_view_module_version": "1.2.0",
            "_view_name": "StyleView",
            "description_width": ""
          }
        },
        "0ebe0a5ae4a14a2dba0cfd225565c0dd": {
          "model_module": "@jupyter-widgets/base",
          "model_name": "LayoutModel",
          "model_module_version": "1.2.0",
          "state": {
            "_model_module": "@jupyter-widgets/base",
            "_model_module_version": "1.2.0",
            "_model_name": "LayoutModel",
            "_view_count": null,
            "_view_module": "@jupyter-widgets/base",
            "_view_module_version": "1.2.0",
            "_view_name": "LayoutView",
            "align_content": null,
            "align_items": null,
            "align_self": null,
            "border": null,
            "bottom": null,
            "display": null,
            "flex": null,
            "flex_flow": null,
            "grid_area": null,
            "grid_auto_columns": null,
            "grid_auto_flow": null,
            "grid_auto_rows": null,
            "grid_column": null,
            "grid_gap": null,
            "grid_row": null,
            "grid_template_areas": null,
            "grid_template_columns": null,
            "grid_template_rows": null,
            "height": null,
            "justify_content": null,
            "justify_items": null,
            "left": null,
            "margin": null,
            "max_height": null,
            "max_width": null,
            "min_height": null,
            "min_width": null,
            "object_fit": null,
            "object_position": null,
            "order": null,
            "overflow": null,
            "overflow_x": null,
            "overflow_y": null,
            "padding": null,
            "right": null,
            "top": null,
            "visibility": null,
            "width": null
          }
        },
        "f9b39ef985f345e5b91d9575e8e3f7f3": {
          "model_module": "@jupyter-widgets/controls",
          "model_name": "ButtonStyleModel",
          "model_module_version": "1.5.0",
          "state": {
            "_model_module": "@jupyter-widgets/controls",
            "_model_module_version": "1.5.0",
            "_model_name": "ButtonStyleModel",
            "_view_count": null,
            "_view_module": "@jupyter-widgets/base",
            "_view_module_version": "1.2.0",
            "_view_name": "StyleView",
            "button_color": null,
            "font_weight": ""
          }
        }
      }
    }
  },
  "cells": [
    {
      "cell_type": "code",
      "source": [
        "#hide\n",
        "! [ -e /content ] && pip install -Uqq fastbook\n",
        "import fastbook\n",
        "fastbook.setup_book()"
      ],
      "metadata": {
        "colab": {
          "base_uri": "https://localhost:8080/"
        },
        "id": "8z4_1gHGxnsR",
        "outputId": "702d5e01-e7bd-4bec-f1a1-a0d2a4b2390c"
      },
      "execution_count": 4,
      "outputs": [
        {
          "output_type": "stream",
          "name": "stdout",
          "text": [
            "\u001b[?25l   \u001b[90m━━━━━━━━━━━━━━━━━━━━━━━━━━━━━━━━━━━━━━━━\u001b[0m \u001b[32m0.0/719.8 kB\u001b[0m \u001b[31m?\u001b[0m eta \u001b[36m-:--:--\u001b[0m\r\u001b[2K   \u001b[90m━━━━━━━━━━━━━━━━━━━━━━━━━━━━━━━━━━━━━━━━\u001b[0m \u001b[32m719.8/719.8 kB\u001b[0m \u001b[31m28.5 MB/s\u001b[0m eta \u001b[36m0:00:00\u001b[0m\n",
            "\u001b[?25h\u001b[?25l   \u001b[90m━━━━━━━━━━━━━━━━━━━━━━━━━━━━━━━━━━━━━━━━\u001b[0m \u001b[32m0.0/474.3 kB\u001b[0m \u001b[31m?\u001b[0m eta \u001b[36m-:--:--\u001b[0m\r\u001b[2K   \u001b[90m━━━━━━━━━━━━━━━━━━━━━━━━━━━━━━━━━━━━━━━━\u001b[0m \u001b[32m474.3/474.3 kB\u001b[0m \u001b[31m27.7 MB/s\u001b[0m eta \u001b[36m0:00:00\u001b[0m\n",
            "\u001b[2K   \u001b[90m━━━━━━━━━━━━━━━━━━━━━━━━━━━━━━━━━━━━━━━━\u001b[0m \u001b[32m116.3/116.3 kB\u001b[0m \u001b[31m8.5 MB/s\u001b[0m eta \u001b[36m0:00:00\u001b[0m\n",
            "\u001b[2K   \u001b[90m━━━━━━━━━━━━━━━━━━━━━━━━━━━━━━━━━━━━━━━━\u001b[0m \u001b[32m39.9/39.9 MB\u001b[0m \u001b[31m19.3 MB/s\u001b[0m eta \u001b[36m0:00:00\u001b[0m\n",
            "\u001b[2K   \u001b[90m━━━━━━━━━━━━━━━━━━━━━━━━━━━━━━━━━━━━━━━━\u001b[0m \u001b[32m134.8/134.8 kB\u001b[0m \u001b[31m9.4 MB/s\u001b[0m eta \u001b[36m0:00:00\u001b[0m\n",
            "\u001b[2K   \u001b[90m━━━━━━━━━━━━━━━━━━━━━━━━━━━━━━━━━━━━━━━━\u001b[0m \u001b[32m194.1/194.1 kB\u001b[0m \u001b[31m13.8 MB/s\u001b[0m eta \u001b[36m0:00:00\u001b[0m\n",
            "\u001b[?25h\u001b[31mERROR: pip's dependency resolver does not currently take into account all the packages that are installed. This behaviour is the source of the following dependency conflicts.\n",
            "cudf-cu12 24.4.1 requires pyarrow<15.0.0a0,>=14.0.1, but you have pyarrow 17.0.0 which is incompatible.\n",
            "ibis-framework 8.0.0 requires pyarrow<16,>=2, but you have pyarrow 17.0.0 which is incompatible.\u001b[0m\u001b[31m\n",
            "\u001b[0mMounted at /content/gdrive\n"
          ]
        }
      ]
    },
    {
      "cell_type": "code",
      "source": [
        "#hide\n",
        "from fastbook import *\n",
        "from fastai.vision.widgets import *"
      ],
      "metadata": {
        "id": "U3ix4QOlxej6"
      },
      "execution_count": 5,
      "outputs": []
    },
    {
      "cell_type": "code",
      "source": [
        "bear_types = 'grizzly','black','teddy'\n",
        "path = '/content/drive/MyDrive/bears'"
      ],
      "metadata": {
        "id": "C2SFCwqKxai1"
      },
      "execution_count": 12,
      "outputs": []
    },
    {
      "cell_type": "code",
      "source": [
        "from google.colab import drive\n",
        "drive.mount('/content/drive')"
      ],
      "metadata": {
        "colab": {
          "base_uri": "https://localhost:8080/"
        },
        "id": "RTJhDHW2xYIa",
        "outputId": "edc8612f-9777-45fe-eb8a-dd7851c72e31"
      },
      "execution_count": 7,
      "outputs": [
        {
          "output_type": "stream",
          "name": "stdout",
          "text": [
            "Mounted at /content/drive\n"
          ]
        }
      ]
    },
    {
      "cell_type": "code",
      "source": [
        "fns = get_image_files(path)\n",
        "fns"
      ],
      "metadata": {
        "colab": {
          "base_uri": "https://localhost:8080/"
        },
        "id": "ypIaeV3fxXoH",
        "outputId": "7d54006f-3eb2-4c0d-80fb-77fb9b9b34dc"
      },
      "execution_count": 13,
      "outputs": [
        {
          "output_type": "execute_result",
          "data": {
            "text/plain": [
              "(#417) [Path('/content/drive/MyDrive/bears/teddy/a84b4b0a-adcc-4bb9-9850-206cbdd87728.jpg'),Path('/content/drive/MyDrive/bears/teddy/4df2c2d9-d1ca-41e5-94fc-e565f0ce9daa.jpg'),Path('/content/drive/MyDrive/bears/teddy/03d90b00-91c2-4a66-88bc-78640dd4d0b6.jpg'),Path('/content/drive/MyDrive/bears/teddy/9eece142-8ec7-4d2e-ae65-cb5e4aa2a573.jpeg'),Path('/content/drive/MyDrive/bears/teddy/f7312cc5-32a9-4da4-b7c8-61db83f72b2b.jpeg'),Path('/content/drive/MyDrive/bears/teddy/917d912d-dde3-46aa-b102-faf0ec632ee7.jpeg'),Path('/content/drive/MyDrive/bears/teddy/8f828b01-3242-484a-b583-886914c243d7.jpg'),Path('/content/drive/MyDrive/bears/teddy/7494d54e-b744-40d0-b33a-8abaedeb700e.jpeg'),Path('/content/drive/MyDrive/bears/teddy/33fc0636-28a1-4980-930b-0b508fbadb41.jpeg'),Path('/content/drive/MyDrive/bears/teddy/794dd9cf-8647-49f5-b8f7-7c787ec40a82.jpg')...]"
            ]
          },
          "metadata": {},
          "execution_count": 13
        }
      ]
    },
    {
      "cell_type": "code",
      "source": [
        "bears = DataBlock(\n",
        "    blocks=(ImageBlock, CategoryBlock),\n",
        "    get_items=get_image_files,\n",
        "    splitter=RandomSplitter(valid_pct=0.2, seed=42),\n",
        "    get_y=parent_label,\n",
        "    item_tfms=Resize(128))"
      ],
      "metadata": {
        "id": "ZY1lToPcxM7O"
      },
      "execution_count": 15,
      "outputs": []
    },
    {
      "cell_type": "code",
      "source": [
        "dls = bears.dataloaders(path)"
      ],
      "metadata": {
        "id": "xVfX_OIBw_1_"
      },
      "execution_count": 16,
      "outputs": []
    },
    {
      "cell_type": "code",
      "source": [
        "bears = bears.new(\n",
        "    item_tfms=RandomResizedCrop(224, min_scale=0.5),\n",
        "    batch_tfms=aug_transforms())\n",
        "dls = bears.dataloaders(path)"
      ],
      "metadata": {
        "id": "cLIxe8_Tw6RN"
      },
      "execution_count": 17,
      "outputs": []
    },
    {
      "cell_type": "code",
      "source": [
        "learn_inf = load_learner('/content/export.pkl')"
      ],
      "metadata": {
        "id": "rAOo35G5u4im"
      },
      "execution_count": 22,
      "outputs": []
    },
    {
      "cell_type": "code",
      "execution_count": 23,
      "metadata": {
        "colab": {
          "base_uri": "https://localhost:8080/",
          "height": 49,
          "referenced_widgets": [
            "39db40ab526f4f2fb551a1031b0f43be",
            "cea3001e5a1d4c01a6383be15817648b",
            "77f689e1dd5942089e2e57047dbea1eb"
          ]
        },
        "id": "YniUAEBBs7fY",
        "outputId": "19872c5b-dce2-45e4-ecd5-47723a631923"
      },
      "outputs": [
        {
          "output_type": "display_data",
          "data": {
            "text/plain": [
              "FileUpload(value={}, description='Upload')"
            ],
            "application/vnd.jupyter.widget-view+json": {
              "version_major": 2,
              "version_minor": 0,
              "model_id": "39db40ab526f4f2fb551a1031b0f43be"
            }
          },
          "metadata": {}
        }
      ],
      "source": [
        "#hide_output\n",
        "btn_upload = widgets.FileUpload()\n",
        "btn_upload"
      ]
    },
    {
      "cell_type": "code",
      "source": [
        "#hide\n",
        "# For the book, we can't actually click an upload button, so we fake it\n",
        "btn_upload = SimpleNamespace(data = ['images/grizzly.jpg'])"
      ],
      "metadata": {
        "id": "cEGzL5iguqAT"
      },
      "execution_count": 24,
      "outputs": []
    },
    {
      "cell_type": "code",
      "source": [
        "img = PILImage.create(btn_upload.data[-1])"
      ],
      "metadata": {
        "id": "AFbUbVUduutm"
      },
      "execution_count": 25,
      "outputs": []
    },
    {
      "cell_type": "code",
      "source": [
        "#hide_output\n",
        "out_pl = widgets.Output()\n",
        "out_pl.clear_output()\n",
        "with out_pl: display(img.to_thumb(128,128))\n",
        "out_pl"
      ],
      "metadata": {
        "colab": {
          "base_uri": "https://localhost:8080/",
          "height": 89,
          "referenced_widgets": [
            "8ac4c0be3e704a61b5d5553def6c5854",
            "887ff7cf014f47c8b064cbee878043f2"
          ]
        },
        "id": "8Z_AxMCRuyca",
        "outputId": "7f19fc0a-0a86-48fa-b5b7-5b19ae2a6e14"
      },
      "execution_count": 26,
      "outputs": [
        {
          "output_type": "display_data",
          "data": {
            "text/plain": [
              "Output()"
            ],
            "application/vnd.jupyter.widget-view+json": {
              "version_major": 2,
              "version_minor": 0,
              "model_id": "8ac4c0be3e704a61b5d5553def6c5854"
            }
          },
          "metadata": {}
        }
      ]
    },
    {
      "cell_type": "code",
      "source": [
        "pred,pred_idx,probs = learn_inf.predict(img)"
      ],
      "metadata": {
        "colab": {
          "base_uri": "https://localhost:8080/",
          "height": 17
        },
        "id": "FCMM2fKdu07x",
        "outputId": "7fa853f3-3554-4ee1-c268-4e97420ef934"
      },
      "execution_count": 27,
      "outputs": [
        {
          "output_type": "display_data",
          "data": {
            "text/plain": [
              "<IPython.core.display.HTML object>"
            ],
            "text/html": [
              "\n",
              "<style>\n",
              "    /* Turns off some styling */\n",
              "    progress {\n",
              "        /* gets rid of default border in Firefox and Opera. */\n",
              "        border: none;\n",
              "        /* Needs to be in here for Safari polyfill so background images work as expected. */\n",
              "        background-size: auto;\n",
              "    }\n",
              "    progress:not([value]), progress:not([value])::-webkit-progress-bar {\n",
              "        background: repeating-linear-gradient(45deg, #7e7e7e, #7e7e7e 10px, #5c5c5c 10px, #5c5c5c 20px);\n",
              "    }\n",
              "    .progress-bar-interrupted, .progress-bar-interrupted::-webkit-progress-bar {\n",
              "        background: #F44336;\n",
              "    }\n",
              "</style>\n"
            ]
          },
          "metadata": {}
        },
        {
          "output_type": "display_data",
          "data": {
            "text/plain": [
              "<IPython.core.display.HTML object>"
            ],
            "text/html": []
          },
          "metadata": {}
        }
      ]
    },
    {
      "cell_type": "code",
      "source": [
        "#hide_output\n",
        "lbl_pred = widgets.Label()\n",
        "lbl_pred.value = f'Prediction: {pred}; Probability: {probs[pred_idx]:.04f}'\n",
        "lbl_pred"
      ],
      "metadata": {
        "colab": {
          "base_uri": "https://localhost:8080/",
          "height": 49,
          "referenced_widgets": [
            "1ab9836d99df42f8b8b004c6520166da",
            "332c74811056444fabe89eb33632dcd8",
            "85618044b2844577a8fa828d7db42f23"
          ]
        },
        "id": "Kzuz9PalvOY8",
        "outputId": "55754fec-6a83-4dce-f080-4986ee2a14d4"
      },
      "execution_count": 28,
      "outputs": [
        {
          "output_type": "display_data",
          "data": {
            "text/plain": [
              "Label(value='Prediction: grizzly; Probability: 0.9968')"
            ],
            "application/vnd.jupyter.widget-view+json": {
              "version_major": 2,
              "version_minor": 0,
              "model_id": "1ab9836d99df42f8b8b004c6520166da"
            }
          },
          "metadata": {}
        }
      ]
    },
    {
      "cell_type": "code",
      "source": [
        "#hide_output\n",
        "btn_run = widgets.Button(description='Classify')\n",
        "btn_run"
      ],
      "metadata": {
        "colab": {
          "base_uri": "https://localhost:8080/",
          "height": 49,
          "referenced_widgets": [
            "9f7b53ceafa24d0f984d11d0256f6a88",
            "177fe1c5043a4edcba881abc0dbc5ff3",
            "9035465b8f0744e7abb27f9418e19bfe"
          ]
        },
        "id": "Y1m7zXqgvPes",
        "outputId": "811f0c58-6931-45eb-9a55-6a9ea822a158"
      },
      "execution_count": 29,
      "outputs": [
        {
          "output_type": "display_data",
          "data": {
            "text/plain": [
              "Button(description='Classify', style=ButtonStyle())"
            ],
            "application/vnd.jupyter.widget-view+json": {
              "version_major": 2,
              "version_minor": 0,
              "model_id": "9f7b53ceafa24d0f984d11d0256f6a88"
            }
          },
          "metadata": {}
        },
        {
          "output_type": "display_data",
          "data": {
            "text/plain": [
              "<IPython.core.display.HTML object>"
            ],
            "text/html": [
              "\n",
              "<style>\n",
              "    /* Turns off some styling */\n",
              "    progress {\n",
              "        /* gets rid of default border in Firefox and Opera. */\n",
              "        border: none;\n",
              "        /* Needs to be in here for Safari polyfill so background images work as expected. */\n",
              "        background-size: auto;\n",
              "    }\n",
              "    progress:not([value]), progress:not([value])::-webkit-progress-bar {\n",
              "        background: repeating-linear-gradient(45deg, #7e7e7e, #7e7e7e 10px, #5c5c5c 10px, #5c5c5c 20px);\n",
              "    }\n",
              "    .progress-bar-interrupted, .progress-bar-interrupted::-webkit-progress-bar {\n",
              "        background: #F44336;\n",
              "    }\n",
              "</style>\n"
            ]
          },
          "metadata": {}
        },
        {
          "output_type": "display_data",
          "data": {
            "text/plain": [
              "<IPython.core.display.HTML object>"
            ],
            "text/html": []
          },
          "metadata": {}
        }
      ]
    },
    {
      "cell_type": "code",
      "source": [
        "def on_click_classify(change):\n",
        "    img = PILImage.create(btn_upload.data[-1])\n",
        "    out_pl.clear_output()\n",
        "    with out_pl: display(img.to_thumb(128,128))\n",
        "    pred,pred_idx,probs = learn_inf.predict(img)\n",
        "    lbl_pred.value = f'Prediction: {pred}; Probability: {probs[pred_idx]:.04f}'\n",
        "\n",
        "btn_run.on_click(on_click_classify)"
      ],
      "metadata": {
        "id": "X8-goHhQvS-9"
      },
      "execution_count": 30,
      "outputs": []
    },
    {
      "cell_type": "code",
      "source": [
        "#hide\n",
        "#Putting back btn_upload to a widget for next cell\n",
        "btn_upload = widgets.FileUpload()"
      ],
      "metadata": {
        "id": "ZZmXMT5DvWId"
      },
      "execution_count": 31,
      "outputs": []
    },
    {
      "cell_type": "code",
      "source": [
        "#hide_output\n",
        "VBox([widgets.Label('Select your bear!'),\n",
        "      btn_upload, btn_run, out_pl, lbl_pred])"
      ],
      "metadata": {
        "colab": {
          "base_uri": "https://localhost:8080/",
          "height": 217,
          "referenced_widgets": [
            "bd768d3a25ab41e582ec55f4472f3502",
            "36b6ec50f2164d028c2b5e8b623ad5b7",
            "5ebb92fa63544cc49a316414a6ecbcf3",
            "9f7b53ceafa24d0f984d11d0256f6a88",
            "8ac4c0be3e704a61b5d5553def6c5854",
            "1ab9836d99df42f8b8b004c6520166da",
            "3e4aa02995184bd698c95f802bd979cb",
            "cdc7687862ef48bd991f159b1d204489",
            "05f7cc72d3f14cdaa9286c50311c9896",
            "0ebe0a5ae4a14a2dba0cfd225565c0dd",
            "f9b39ef985f345e5b91d9575e8e3f7f3",
            "177fe1c5043a4edcba881abc0dbc5ff3",
            "9035465b8f0744e7abb27f9418e19bfe",
            "332c74811056444fabe89eb33632dcd8",
            "85618044b2844577a8fa828d7db42f23",
            "887ff7cf014f47c8b064cbee878043f2"
          ]
        },
        "id": "iEQbWWu-vlIp",
        "outputId": "13f1b84e-9146-401c-f0c4-37f9140bc6a0"
      },
      "execution_count": 32,
      "outputs": [
        {
          "output_type": "display_data",
          "data": {
            "text/plain": [
              "VBox(children=(Label(value='Select your bear!'), FileUpload(value={}, description='Upload'), Button(descriptio…"
            ],
            "application/vnd.jupyter.widget-view+json": {
              "version_major": 2,
              "version_minor": 0,
              "model_id": "bd768d3a25ab41e582ec55f4472f3502"
            }
          },
          "metadata": {}
        }
      ]
    },
    {
      "cell_type": "code",
      "source": [
        "#hide\n",
        "# !pip install voila\n",
        "# !jupyter serverextension enable --sys-prefix voila"
      ],
      "metadata": {
        "id": "HUagIsa9vrTb"
      },
      "execution_count": 33,
      "outputs": []
    }
  ]
}